{
  "nbformat": 4,
  "nbformat_minor": 0,
  "metadata": {
    "colab": {
      "provenance": [],
      "toc_visible": true,
      "authorship_tag": "ABX9TyMScd+j+UtU4PptPtR9MX4/",
      "include_colab_link": true
    },
    "kernelspec": {
      "name": "python3",
      "display_name": "Python 3"
    },
    "language_info": {
      "name": "python"
    }
  },
  "cells": [
    {
      "cell_type": "markdown",
      "metadata": {
        "id": "view-in-github",
        "colab_type": "text"
      },
      "source": [
        "<a href=\"https://colab.research.google.com/github/sanny0703/MyNewRepo/blob/master/dp.ipynb\" target=\"_parent\"><img src=\"https://colab.research.google.com/assets/colab-badge.svg\" alt=\"Open In Colab\"/></a>"
      ]
    },
    {
      "cell_type": "code",
      "execution_count": 2,
      "metadata": {
        "colab": {
          "base_uri": "https://localhost:8080/",
          "height": 430
        },
        "id": "yVG0nGsgqBgm",
        "outputId": "d17c6efd-4522-458c-c633-f1d9f591ac45"
      },
      "outputs": [
        {
          "output_type": "display_data",
          "data": {
            "text/plain": [
              "<Figure size 640x480 with 1 Axes>"
            ],
            "image/png": "[encoded data removed]"
          },
          "metadata": {}
        }
      ],
      "source": [
        "import tensorflow as tf\n",
        "import numpy as np\n",
        "import matplotlib.pyplot as plt\n",
        "\n",
        "# Activation functions\n",
        "z = np.linspace(-5,5,100)\n",
        "plt.plot(z,tf.math.sigmoid(z),label='sigmoid')\n",
        "plt.plot(z,tf.nn.relu(z),label='relu')\n",
        "plt.plot(z,tf.math.tanh(z),label='tanh')\n",
        "plt.legend(loc='best')\n",
        "plt.show()"
      ]
    },
    {
      "cell_type": "code",
      "source": [
        "# Dense Layer\n",
        "\n",
        "class MyDenseLayer(tf.keras.layers.Layer):\n",
        "    def __init__(self,input_dim,output_dim):\n",
        "      super(MyDenseLayer,self).__init__()\n",
        "\n",
        "      # initialize weights\n",
        "      # Both these are learnable parameters, so no initialization is needed\n",
        "      self.W = self.add_weight((input_dim,output_dim))\n",
        "      self.b = self.add_weight((1,output_dim))\n",
        "\n",
        "    def call(self,inputs):\n",
        "      # Forward propagate the inputs\n",
        "      z = tf.matmul(inputs,self.W) + self.b\n",
        "      # Feed through a non-linear activation function\n",
        "      output = tf.math.sigmoid(z)\n",
        "      return output\n",
        "\n",
        "# We can directly use\n",
        "layer = tf.keras.layers.Dense(units=2)\n",
        "\n",
        "\n",
        "# multioutput perceptron\n",
        "n = 4\n",
        "model = tf.keras.Sequential([\n",
        "  tf.keras.layers.Dense(n,activation='sigmoid'), tf.keras.layers.Dense(2,activation='softmax')\n",
        "])"
      ],
      "metadata": {
        "id": "YPHZ7BYvyb4r"
      },
      "execution_count": null,
      "outputs": []
    },
    {
      "cell_type": "code",
      "source": [
        "# Loss calculations\n",
        "\n",
        "# 1) binary cross entropy\n",
        "# cross entropy calculation using tf\n",
        "cross_entropy = tf.nn.softmax_cross_entropy_with_logits(y,predicted)\n",
        "# mean of the cross entropy\n",
        "loss = tf.reduce_mean(cross_entropy)\n",
        "\n",
        "\n",
        "# 2) Mean Squared error\n",
        "\n",
        "loss = tf.reduce_mean(tf.square(tf.subtract(y,predicted)))\n",
        "\n",
        "loss = tf.keras.losses.MSE(y,predicted)"
      ],
      "metadata": {
        "id": "-J2z3V1w5fRR"
      },
      "execution_count": null,
      "outputs": []
    },
    {
      "cell_type": "code",
      "source": [
        "# Gradient Descent\n",
        "\n",
        "weights = tf.Variable([tf.random.normal()])\n",
        "lr = 0.1 # define learning rate\n",
        "\n",
        "while True:\n",
        "  with tf.GradientTape() as g: # loop forever till convergence or stopping condition is met\n",
        "    loss = compute_loss(weights)\n",
        "    gradient = g.gradient(loss,weights)\n",
        "  weigths = weights - lr * gradient"
      ],
      "metadata": {
        "id": "V3iEgASZ94Os",
        "colab": {
          "base_uri": "https://localhost:8080/",
          "height": 356
        },
        "outputId": "70a72b3d-fa58-4e77-bbb0-9f5fb4c0547c"
      },
      "execution_count": 3,
      "outputs": [
        {
          "output_type": "error",
          "ename": "TypeError",
          "evalue": "Missing required positional argument",
          "traceback": [
            "\u001b[0;31m---------------------------------------------------------------------------\u001b[0m",
            "\u001b[0;31mTypeError\u001b[0m                                 Traceback (most recent call last)",
            "\u001b[0;32m<ipython-input-3-ccb4a2cf887b>\u001b[0m in \u001b[0;36m<cell line: 3>\u001b[0;34m()\u001b[0m\n\u001b[1;32m      1\u001b[0m \u001b[0;31m# Gradient Descent\u001b[0m\u001b[0;34m\u001b[0m\u001b[0;34m\u001b[0m\u001b[0m\n\u001b[1;32m      2\u001b[0m \u001b[0;34m\u001b[0m\u001b[0m\n\u001b[0;32m----> 3\u001b[0;31m \u001b[0mweights\u001b[0m \u001b[0;34m=\u001b[0m \u001b[0mtf\u001b[0m\u001b[0;34m.\u001b[0m\u001b[0mVariable\u001b[0m\u001b[0;34m(\u001b[0m\u001b[0;34m[\u001b[0m\u001b[0mtf\u001b[0m\u001b[0;34m.\u001b[0m\u001b[0mrandom\u001b[0m\u001b[0;34m.\u001b[0m\u001b[0mnormal\u001b[0m\u001b[0;34m(\u001b[0m\u001b[0;34m)\u001b[0m\u001b[0;34m]\u001b[0m\u001b[0;34m)\u001b[0m\u001b[0;34m\u001b[0m\u001b[0;34m\u001b[0m\u001b[0m\n\u001b[0m\u001b[1;32m      4\u001b[0m \u001b[0mlr\u001b[0m \u001b[0;34m=\u001b[0m \u001b[0;36m0.1\u001b[0m \u001b[0;31m# define learning rate\u001b[0m\u001b[0;34m\u001b[0m\u001b[0;34m\u001b[0m\u001b[0m\n\u001b[1;32m      5\u001b[0m \u001b[0;34m\u001b[0m\u001b[0m\n",
            "\u001b[0;32m/usr/local/lib/python3.10/dist-packages/tensorflow/python/util/traceback_utils.py\u001b[0m in \u001b[0;36merror_handler\u001b[0;34m(*args, **kwargs)\u001b[0m\n\u001b[1;32m    151\u001b[0m     \u001b[0;32mexcept\u001b[0m \u001b[0mException\u001b[0m \u001b[0;32mas\u001b[0m \u001b[0me\u001b[0m\u001b[0;34m:\u001b[0m\u001b[0;34m\u001b[0m\u001b[0;34m\u001b[0m\u001b[0m\n\u001b[1;32m    152\u001b[0m       \u001b[0mfiltered_tb\u001b[0m \u001b[0;34m=\u001b[0m \u001b[0m_process_traceback_frames\u001b[0m\u001b[0;34m(\u001b[0m\u001b[0me\u001b[0m\u001b[0;34m.\u001b[0m\u001b[0m__traceback__\u001b[0m\u001b[0;34m)\u001b[0m\u001b[0;34m\u001b[0m\u001b[0;34m\u001b[0m\u001b[0m\n\u001b[0;32m--> 153\u001b[0;31m       \u001b[0;32mraise\u001b[0m \u001b[0me\u001b[0m\u001b[0;34m.\u001b[0m\u001b[0mwith_traceback\u001b[0m\u001b[0;34m(\u001b[0m\u001b[0mfiltered_tb\u001b[0m\u001b[0;34m)\u001b[0m \u001b[0;32mfrom\u001b[0m \u001b[0;32mNone\u001b[0m\u001b[0;34m\u001b[0m\u001b[0;34m\u001b[0m\u001b[0m\n\u001b[0m\u001b[1;32m    154\u001b[0m     \u001b[0;32mfinally\u001b[0m\u001b[0;34m:\u001b[0m\u001b[0;34m\u001b[0m\u001b[0;34m\u001b[0m\u001b[0m\n\u001b[1;32m    155\u001b[0m       \u001b[0;32mdel\u001b[0m \u001b[0mfiltered_tb\u001b[0m\u001b[0;34m\u001b[0m\u001b[0;34m\u001b[0m\u001b[0m\n",
            "\u001b[0;32m/usr/local/lib/python3.10/dist-packages/tensorflow/python/util/dispatch.py\u001b[0m in \u001b[0;36mop_dispatch_handler\u001b[0;34m(*args, **kwargs)\u001b[0m\n\u001b[1;32m   1252\u001b[0m         \u001b[0;32mif\u001b[0m \u001b[0miterable_params\u001b[0m \u001b[0;32mis\u001b[0m \u001b[0;32mnot\u001b[0m \u001b[0;32mNone\u001b[0m\u001b[0;34m:\u001b[0m\u001b[0;34m\u001b[0m\u001b[0;34m\u001b[0m\u001b[0m\n\u001b[1;32m   1253\u001b[0m           \u001b[0margs\u001b[0m\u001b[0;34m,\u001b[0m \u001b[0mkwargs\u001b[0m \u001b[0;34m=\u001b[0m \u001b[0mreplace_iterable_params\u001b[0m\u001b[0;34m(\u001b[0m\u001b[0margs\u001b[0m\u001b[0;34m,\u001b[0m \u001b[0mkwargs\u001b[0m\u001b[0;34m,\u001b[0m \u001b[0miterable_params\u001b[0m\u001b[0;34m)\u001b[0m\u001b[0;34m\u001b[0m\u001b[0;34m\u001b[0m\u001b[0m\n\u001b[0;32m-> 1254\u001b[0;31m         \u001b[0mresult\u001b[0m \u001b[0;34m=\u001b[0m \u001b[0mapi_dispatcher\u001b[0m\u001b[0;34m.\u001b[0m\u001b[0mDispatch\u001b[0m\u001b[0;34m(\u001b[0m\u001b[0margs\u001b[0m\u001b[0;34m,\u001b[0m \u001b[0mkwargs\u001b[0m\u001b[0;34m)\u001b[0m\u001b[0;34m\u001b[0m\u001b[0;34m\u001b[0m\u001b[0m\n\u001b[0m\u001b[1;32m   1255\u001b[0m         \u001b[0;32mif\u001b[0m \u001b[0mresult\u001b[0m \u001b[0;32mis\u001b[0m \u001b[0;32mnot\u001b[0m \u001b[0mNotImplemented\u001b[0m\u001b[0;34m:\u001b[0m\u001b[0;34m\u001b[0m\u001b[0;34m\u001b[0m\u001b[0m\n\u001b[1;32m   1256\u001b[0m           \u001b[0;32mreturn\u001b[0m \u001b[0mresult\u001b[0m\u001b[0;34m\u001b[0m\u001b[0;34m\u001b[0m\u001b[0m\n",
            "\u001b[0;31mTypeError\u001b[0m: Missing required positional argument"
          ]
        }
      ]
    },
    {
      "cell_type": "code",
      "source": [
        "# Using optimizer\n",
        "\n",
        "model = tf.keras.Sequential([...]) # can use any layers\n",
        "optimizer = tf.keras.optimizers.SGD(0.01) # can use any optimizer like Adam\n",
        "\n",
        "while True:  # loop forever\n",
        "  # forward pass through the network\n",
        "  prediction = model(x)\n",
        "  with tf.GradientTape() as tape:\n",
        "    # compute the loss\n",
        "    loss = compute_loss(y,prediction)\n",
        "  # update the weights using gradient\n",
        "  grads = tape.gradient(loss,model.trainable_variables)\n",
        "  optimizer.apply_gradients(zip(grads,model.trainable_variables))"
      ],
      "metadata": {
        "id": "IEOql_Y0xzjU"
      },
      "execution_count": null,
      "outputs": []
    },
    {
      "cell_type": "code",
      "source": [
        "# Overfitting\n",
        "\n",
        "tf.keras.layers.Dropout(rate=0.5) # dropout 50% activations in a layer\n"
      ],
      "metadata": {
        "id": "AdoKp0x85QRs"
      },
      "execution_count": null,
      "outputs": []
    }
  ]
}